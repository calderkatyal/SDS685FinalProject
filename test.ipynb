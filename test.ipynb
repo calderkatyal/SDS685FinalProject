{
 "cells": [
  {
   "cell_type": "code",
   "execution_count": 3,
   "id": "927e74b9-8d32-4179-9bc4-53ea4cbe8714",
   "metadata": {},
   "outputs": [
    {
     "name": "stdout",
     "output_type": "stream",
     "text": [
      "combined_images_list   → shape=(38, 300, 600, 3), dtype=uint8\n",
      "rational_labels        → shape=(38, 1), dtype=int64\n",
      "vlm_labels             → shape=(38, 1), dtype=int64\n",
      "sa_t_1                 → shape=(38, 1, 43), dtype=float64\n",
      "sa_t_2                 → shape=(38, 1, 43), dtype=float64\n",
      "r_t_1                  → shape=(38, 1, 1), dtype=float64\n",
      "r_t_2                  → shape=(38, 1, 1), dtype=float64\n"
     ]
    },
    {
     "name": "stderr",
     "output_type": "stream",
     "text": [
      "/tmp/ipykernel_2293764/346861063.py:8: DeprecationWarning: numpy.core.numeric is deprecated and has been renamed to numpy._core.numeric. The numpy._core namespace contains private NumPy internals and its use is discouraged, as NumPy internals can change without warning in any release. In practice, most real-world usage of numpy.core is to access functionality in the public NumPy API. If that is the case, use the public NumPy API. If not, you are using NumPy internals. If you would still like to access an internal attribute, use numpy._core.numeric._frombuffer.\n",
      "  data = pickle.load(f)\n"
     ]
    }
   ],
   "source": [
    "import pickle\n",
    "import numpy as np\n",
    "import os\n",
    "\n",
    "cached_dir = \"data/cached_labels/Drawer/seed_0\"   # adjust to your path\n",
    "files = sorted(os.listdir(cached_dir))\n",
    "with open(os.path.join(cached_dir, files[0]), \"rb\") as f:\n",
    "    data = pickle.load(f)\n",
    "\n",
    "names = [\n",
    "    \"combined_images_list\",\n",
    "    \"rational_labels\",\n",
    "    \"vlm_labels\",\n",
    "    \"sa_t_1\",\n",
    "    \"sa_t_2\",\n",
    "    \"r_t_1\",\n",
    "    \"r_t_2\",\n",
    "]\n",
    "for name, arr in zip(names, data):\n",
    "    print(f\"{name:22s} → shape={np.array(arr).shape}, dtype={np.array(arr).dtype}\")\n"
   ]
  },
  {
   "cell_type": "code",
   "execution_count": 20,
   "id": "c1d80c59-396d-481d-94ea-addb05a67105",
   "metadata": {},
   "outputs": [
    {
     "name": "stdout",
     "output_type": "stream",
     "text": [
      "seed_0\n"
     ]
    }
   ],
   "source": [
    "!ls data/cached_labels/Drawer/seed"
   ]
  }
 ],
 "metadata": {
  "kernelspec": {
   "display_name": "projectvenv",
   "language": "python",
   "name": "projectvenv"
  },
  "language_info": {
   "codemirror_mode": {
    "name": "ipython",
    "version": 3
   },
   "file_extension": ".py",
   "mimetype": "text/x-python",
   "name": "python",
   "nbconvert_exporter": "python",
   "pygments_lexer": "ipython3",
   "version": "3.9.22"
  }
 },
 "nbformat": 4,
 "nbformat_minor": 5
}
